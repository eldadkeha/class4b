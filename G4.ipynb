{
 "cells": [
  {
   "cell_type": "code",
   "execution_count": 2,
   "id": "7aeac801-52e8-48cf-9cd6-9066cf9a0c63",
   "metadata": {},
   "outputs": [
    {
     "data": {
      "application/vnd.jupyter.widget-view+json": {
       "model_id": "e689d5e79ee9445a8cd09c8ee5bc931e",
       "version_major": 2,
       "version_minor": 0
      },
      "text/plain": [
       "interactive(children=(IntSlider(value=5, description='SamplesNum', layout=Layout(width='800px'), max=10000, mi…"
      ]
     },
     "metadata": {},
     "output_type": "display_data"
    }
   ],
   "source": [
    "# nbi:hide_in \n",
    "import pandas as pd\n",
    "import seaborn as sns\n",
    "import numpy as np\n",
    "import matplotlib.pyplot as plt\n",
    "from ipywidgets import interact, interactive, fixed, interact_manual, Layout\n",
    "import ipywidgets as widgets\n",
    "import random\n",
    "from scipy import stats\n",
    "  \n",
    "\n",
    "def plot_dist(dist, bins=\"auto\", kde=False, fit=\"None\", color=\"b\", stat=\"density\",height=8, aspect=1):\n",
    "  #for frequency - set stat to \"count\"\n",
    "  #aspect*height=width\n",
    "  plt.figure(0)\n",
    "  sns.displot(dist, kde=kde,bins=bins,stat=stat,color=color,height=height, aspect=aspect);\n",
    "  if (fit==\"Normal\") & (stat==\"density\"):  \n",
    "    d = stats.norm.fit(dist)\n",
    "    mu = d[0]; sigma = d[1]\n",
    "    x = np.linspace(mu - 3.5*sigma, mu + 3.5*sigma, 200) #limits of dist\n",
    "    plt.plot(x, stats.norm.pdf(x, mu, sigma),color=\"purple\");\n",
    "  elif (fit==\"F\") & (stat==\"density\"):  \n",
    "    d = stats.f.fit(dist)\n",
    "    dfn = d[0]; dfd = d[1]\n",
    "    interval = stats.f.interval(.995,dfn,dfd) #limits of dist\n",
    "    x = np.linspace(interval[0],interval[1], 200)\n",
    "    plt.plot(x, stats.f.pdf(x, dfn, dfd),color=\"purple\");\n",
    "  elif (fit==\"gamma\") & (stat==\"density\"):  \n",
    "    d = stats.gamma.fit(dist)\n",
    "    a = d[0]; loc = d[1]; scale = d[2]\n",
    "    interval = stats.gamma.interval(.995,a,loc,scale) #limits of dist\n",
    "    x = np.linspace(interval[0],interval[1], 200)\n",
    "    plt.plot(x, stats.gamma.pdf(x, a, loc, scale),color=\"purple\");\n",
    "\n",
    "data2 = pd.read_csv(\"data2.csv\")\n",
    "heightSim = data2['Height']\n",
    "sns.set_style('white')\n",
    "  \n",
    "def mean_boot(SamplesNum=5, Sample_Size = 30):  \n",
    "  np.random.seed(1)\n",
    "  meanHeight = np.zeros(SamplesNum)\n",
    "  for i in range(SamplesNum):\n",
    "      SampledHeight = random.choices(heightSim, k=Sample_Size)\n",
    "      meanHeight[i]=np.mean(SampledHeight)\n",
    "      \n",
    "  meanMeanHieght=np.mean(meanHeight)\n",
    "  plot_dist(meanHeight,bins=25, kde=False, color=\"mediumpurple\", fit=\"Normal\", height = 5, aspect = 2)\n",
    "  plt.xlim(160, 175)\n",
    "  plt.xlabel('Along the X axis are the values of the different means of the different samples we took from the population');\n",
    "  plt.ylabel('Density', size = 20);\n",
    "int_widget = interactive(mean_boot,SamplesNum=(5,10000,5), Sample_Size=(2,1000))\n",
    "int_widget.children[0].layout = Layout(width='800px')\n",
    "int_widget.children[1].layout = Layout(width='800px')\n",
    "display(int_widget)\n",
    "\n",
    "    \n"
   ]
  },
  {
   "cell_type": "code",
   "execution_count": null,
   "id": "1b6aca42-ce83-4789-830a-7f69c90f2a18",
   "metadata": {},
   "outputs": [],
   "source": []
  }
 ],
 "metadata": {
  "kernelspec": {
   "display_name": "Python 3 (ipykernel)",
   "language": "python",
   "name": "python3"
  },
  "language_info": {
   "codemirror_mode": {
    "name": "ipython",
    "version": 3
   },
   "file_extension": ".py",
   "mimetype": "text/x-python",
   "name": "python",
   "nbconvert_exporter": "python",
   "pygments_lexer": "ipython3",
   "version": "3.7.12"
  }
 },
 "nbformat": 4,
 "nbformat_minor": 5
}
